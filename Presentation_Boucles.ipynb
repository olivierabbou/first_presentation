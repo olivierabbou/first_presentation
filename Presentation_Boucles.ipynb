{
 "cells": [
  {
   "cell_type": "markdown",
   "metadata": {},
   "source": [
    "# Utilisation des boucles \"for\" et \"while\"\n",
    "    Présentation des deux boucles :\n",
    "        Ces boucles sont utilisées  pour itérer une suite d'éléments (string, liste, tuple, dictionnaire, set)\n",
    "    \n",
    "    Différence for/while :\n",
    "            La boucle  for est utilisée pour répéter unes section de code un nombre de fois déterminé (n) tandis que la boucle\n",
    "            while contine jusqu'à ce qu'une condition ne soit plus remplie.\n",
    "            \n",
    "\n",
    "# For\n",
    "  \n",
    "    \n"
   ]
  },
  {
   "cell_type": "code",
   "execution_count": 50,
   "metadata": {},
   "outputs": [
    {
     "name": "stdout",
     "output_type": "stream",
     "text": [
      "F\n",
      "o\n",
      "r\n",
      "m\n",
      "a\n",
      "t\n",
      "i\n",
      "o\n",
      "n\n",
      " \n",
      "S\n",
      "i\n",
      "m\n",
      "p\n",
      "l\n",
      "o\n",
      "n\n",
      " \n",
      "O\n",
      "r\n",
      "a\n",
      "n\n",
      "g\n",
      "e\n"
     ]
    }
   ],
   "source": [
    "example_string = \"Formation Simplon Orange\"\n",
    "for char in example_string:\n",
    "    print(char)"
   ]
  },
  {
   "cell_type": "code",
   "execution_count": 14,
   "metadata": {},
   "outputs": [
    {
     "name": "stdout",
     "output_type": "stream",
     "text": [
      "1\n",
      "2\n",
      "3\n",
      "4\n",
      "5\n"
     ]
    }
   ],
   "source": [
    "example_liste = [1,2,3,4,5]\n",
    "for element_liste in example_liste:\n",
    "    print(element_liste)"
   ]
  },
  {
   "cell_type": "markdown",
   "metadata": {},
   "source": [
    "On peut réaliser des operations sur les resultats"
   ]
  },
  {
   "cell_type": "code",
   "execution_count": 15,
   "metadata": {},
   "outputs": [
    {
     "name": "stdout",
     "output_type": "stream",
     "text": [
      "1\n",
      "4\n",
      "9\n",
      "16\n",
      "25\n"
     ]
    }
   ],
   "source": [
    "example_liste = [ 1, 2, 3, 4, 5]\n",
    "\n",
    "for element_liste in example_liste:\n",
    "    element_liste = element_liste ** 2\n",
    "    print(element_liste)"
   ]
  },
  {
   "cell_type": "markdown",
   "metadata": {},
   "source": [
    "#Exemple tuple, range, enumarate"
   ]
  },
  {
   "cell_type": "code",
   "execution_count": 21,
   "metadata": {},
   "outputs": [
    {
     "name": "stdout",
     "output_type": "stream",
     "text": [
      "0 10\n",
      "1 20\n",
      "2 30\n",
      "3 40\n",
      "4 50\n",
      "-----\n",
      "0 10\n",
      "1 20\n",
      "2 30\n",
      "3 40\n",
      "4 50\n",
      "-----\n",
      "0 10\n",
      "1 20\n",
      "2 30\n",
      "3 40\n",
      "4 50\n"
     ]
    }
   ],
   "source": [
    "T = (10,20,30,40,50)\n",
    "for var in T:\n",
    "    print (T.index(var),var)\n",
    "\n",
    "print('-' *  5)\n",
    "\n",
    "for var in range(len(T)):\n",
    "    print (var,T[var])\n",
    "\n",
    "print('-' *  5)\n",
    "\n",
    "for index, var in enumerate(T):\n",
    "    print (index, var)\n",
    " "
   ]
  },
  {
   "cell_type": "markdown",
   "metadata": {},
   "source": [
    "Exemple de range:"
   ]
  },
  {
   "cell_type": "code",
   "execution_count": 23,
   "metadata": {},
   "outputs": [
    {
     "name": "stdout",
     "output_type": "stream",
     "text": [
      "5 25\n",
      "6 36\n",
      "7 49\n",
      "8 64\n",
      "9 81\n",
      "-----\n",
      "5 25\n",
      "7 49\n",
      "9 81\n",
      "-----\n"
     ]
    }
   ],
   "source": [
    " for i in range(5, 10):\n",
    "    print(i, i ** 2)\n",
    "print('-' *  5)\n",
    "\n",
    "for i in range(5, 10, 2):\n",
    "    print(i, i ** 2)\n",
    "print('-' *  5)"
   ]
  },
  {
   "cell_type": "markdown",
   "metadata": {},
   "source": [
    "### Dictionnaires"
   ]
  },
  {
   "cell_type": "code",
   "execution_count": 37,
   "metadata": {},
   "outputs": [
    {
     "name": "stdout",
     "output_type": "stream",
     "text": [
      "a is at position 1 in the alphabet.\n",
      "b is at position 2 in the alphabet.\n",
      "c is at position 3 in the alphabet.\n",
      "d is at position 4 in the alphabet.\n",
      "e is at position 5 in the alphabet.\n"
     ]
    }
   ],
   "source": [
    "example_dic = {\"a\":1, \"b\":2, \"c\":3, \"d\":4, \"e\": 5}\n",
    "\n",
    "for key in example_dic:\n",
    "    print(key, 'is at position', example_dic[key], 'in the alphabet.')"
   ]
  },
  {
   "cell_type": "markdown",
   "metadata": {},
   "source": [
    "## BREAK et CONTINUE\n",
    " L'instruction Break permet d'arrêter une boucle selon une condition définie : "
   ]
  },
  {
   "cell_type": "code",
   "execution_count": 38,
   "metadata": {},
   "outputs": [
    {
     "name": "stdout",
     "output_type": "stream",
     "text": [
      "s\n",
      "t\n",
      "r\n",
      "The end\n"
     ]
    }
   ],
   "source": [
    "for val in \"string\":\n",
    "    if val == \"i\":\n",
    "        break\n",
    "    print(val)\n",
    "\n",
    "print(\"The end\")\n"
   ]
  },
  {
   "cell_type": "code",
   "execution_count": 48,
   "metadata": {},
   "outputs": [
    {
     "name": "stdout",
     "output_type": "stream",
     "text": [
      "s\n",
      "t\n",
      "r\n",
      "operation\n",
      "n\n",
      "g\n",
      "The end\n"
     ]
    }
   ],
   "source": [
    "for val in \"string\":\n",
    "    if val == \"i\":\n",
    "        print(\"operation\")\n",
    "        continue\n",
    "    print(val)\n",
    "    \n",
    "print(\"The end\")"
   ]
  },
  {
   "cell_type": "markdown",
   "metadata": {},
   "source": [
    "L'instruction Continue permet d'utiliser des éléments spécifiques d'une liste à partir d'une condition définie:"
   ]
  },
  {
   "cell_type": "markdown",
   "metadata": {},
   "source": [
    "# WHILE"
   ]
  },
  {
   "cell_type": "markdown",
   "metadata": {},
   "source": [
    "## Exemple while"
   ]
  },
  {
   "cell_type": "code",
   "execution_count": 39,
   "metadata": {},
   "outputs": [
    {
     "name": "stdout",
     "output_type": "stream",
     "text": [
      "4\n",
      "3\n",
      "2\n",
      "1\n",
      "0\n",
      "end of loop\n"
     ]
    }
   ],
   "source": [
    "n = 5\n",
    "while n > 0 :\n",
    "    n -= 1\n",
    "    print(n)\n",
    "print(\"end of loop\")"
   ]
  },
  {
   "cell_type": "markdown",
   "metadata": {},
   "source": [
    "## Exemple break et continue"
   ]
  },
  {
   "cell_type": "markdown",
   "metadata": {},
   "source": [
    "### Exemple continue"
   ]
  },
  {
   "cell_type": "code",
   "execution_count": 47,
   "metadata": {},
   "outputs": [
    {
     "name": "stdout",
     "output_type": "stream",
     "text": [
      "1\n",
      "2\n",
      "operation\n",
      "4\n",
      "5\n",
      "6\n"
     ]
    }
   ],
   "source": [
    "i = 0\n",
    "while i < 6:\n",
    "    i += 1 \n",
    "    if i == 3:\n",
    "        print(\"operation\")\n",
    "        continue\n",
    "    print(i)"
   ]
  },
  {
   "cell_type": "markdown",
   "metadata": {},
   "source": [
    "### Exemple break"
   ]
  },
  {
   "cell_type": "code",
   "execution_count": 41,
   "metadata": {},
   "outputs": [
    {
     "name": "stdout",
     "output_type": "stream",
     "text": [
      "1\n",
      "2\n"
     ]
    }
   ],
   "source": [
    "i = 0\n",
    "while i < 6:\n",
    "    i += 1 \n",
    "    if i == 3:\n",
    "        break\n",
    "    print(i)"
   ]
  }
 ],
 "metadata": {
  "kernelspec": {
   "display_name": "Python 3",
   "language": "python",
   "name": "python3"
  },
  "language_info": {
   "codemirror_mode": {
    "name": "ipython",
    "version": 3
   },
   "file_extension": ".py",
   "mimetype": "text/x-python",
   "name": "python",
   "nbconvert_exporter": "python",
   "pygments_lexer": "ipython3",
   "version": "3.7.1"
  }
 },
 "nbformat": 4,
 "nbformat_minor": 2
}
